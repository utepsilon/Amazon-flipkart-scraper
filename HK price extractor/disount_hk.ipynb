{
 "cells": [
  {
   "cell_type": "code",
   "execution_count": 23,
   "metadata": {},
   "outputs": [
    {
     "name": "stdout",
     "output_type": "stream",
     "text": [
      "['https://www.healthkart.com/whey-protein?navKey=SCT-snt-pt-wp&pageNo=1&perPage=24&srtBy=RANK&srtType=ASC&excludeOOS=true&minDiscount=80&itracker=w:menuLanding|discount|;p:3|;c:80%25-and-above|;&cache=1\\n', 'https://www.healthkart.com/pre-workout?navKey=SCT-SNT-pre&pageNo=1&perPage=24&srtBy=RANK&srtType=ASC&excludeOOS=true&minDiscount=80&itracker=w:menuLanding|discount|;p:3|;c:80%25-and-above|;&cache=1\\n', 'https://www.healthkart.com/muesli?navKey=SCT-hfd-brf-musl&pageNo=1&perPage=24&srtBy=RANK&srtType=ASC&excludeOOS=true&minDiscount=80&itracker=w:menuLanding|discount|;p:4|;c:80%25-and-above|;&cache=1\\n', 'https://www.healthkart.com/plant-proteins?navKey=SCT-sn-pt-pptn&pageNo=1&perPage=24&srtBy=RANK&srtType=ASC&excludeOOS=true&minDiscount=80&itracker=w:menuLanding|discount|;p:3|;c:80%25-and-above|;&cache=1\\n']\n"
     ]
    }
   ],
   "source": [
    "import requests\n",
    "from bs4 import BeautifulSoup\n",
    "from urllib.parse import urlparse, parse_qs\n",
    "import time\n",
    "\n",
    "bot_token = '6288451570:AAEi2DQpUE9D7LMI71WftcgDhPwV8GON3yw'\n",
    "user_id = '968604510'\n",
    "\n",
    "with open('discount.txt', 'r') as f:\n",
    "    products = [ line for line in f.readlines()]\n",
    "\n",
    "print(products)"
   ]
  },
  {
   "cell_type": "code",
   "execution_count": 24,
   "metadata": {
    "scrolled": true
   },
   "outputs": [
    {
     "name": "stdout",
     "output_type": "stream",
     "text": [
      "[]\n",
      "[]\n"
     ]
    }
   ],
   "source": [
    "\n",
    "response = requests.get(products[0])\n",
    "soup = BeautifulSoup(response.text, 'html.parser')\n",
    "productNames = []\n",
    "price = []\n",
    "link = []\n",
    "\n",
    "\n",
    "for i in soup.find_all('div', {'class': 'variant-name variantBoxDesktopLayoutLoyal_variant-name__15TPT'}):\n",
    "    productNames.append(i.text.strip())\n",
    "print(productNames)\n",
    "\n",
    "for i in soup.find_all('a', {'class': 'variant-img-container relative variantBoxDesktopLayoutLoyal_variant-img-container__1ZE7P'}):\n",
    "    link.append(\"https://www.healthkart.com\"+i.get('href'))\n",
    "print(link)\n",
    "for i in soup.find_all('span', {'class': 'variant-price variantBoxDesktopLayoutLoyal_variant-price__36JaH'}):\n",
    "    price.append(i.text.strip())\n",
    "\n",
    "for i in range(len(productNames)):\n",
    "    message = \"Discount on Product : \" + productNames[i]+ \"\\n\"+ \"Price : \"+price[i]+ \"\\n\"+ \"link : \"+ link[i];\n",
    "   \n",
    "    url = \"https://api.telegram.org/bot\"+bot_token+\"/sendMessage?chat_id=\"+user_id+\"&text=\"+message\n",
    "    requests.get(url)\n"
   ]
  },
  {
   "cell_type": "code",
   "execution_count": null,
   "metadata": {},
   "outputs": [],
   "source": [
    " #print(productName)\n",
    "    #price = soup.findAll('span', {'class': 'variant-price variantBoxDesktopLayoutLoyal_variant-price__36JaH'}).text.strip()\n",
    "    #link = soup.find('a', {'class': 'variant-img-container relative variantBoxDesktopLayoutLoyal_variant-img-container__1ZE7P'}).get('href')\n",
    "    #print(price)\n",
    "    #link  = 'https://www.healthkart.com'+ link;\n",
    "    \n",
    "    #data = soup.find('div', {'class': 'hk-variants-box-body-vis variantBoxDesktopLayoutLoyal_hk-variants-box-body-vis__xsNxb'})\n",
    "    #print(data)\n",
    "    \n",
    "    \n",
    "    #print(link)"
   ]
  }
 ],
 "metadata": {
  "kernelspec": {
   "display_name": "Python 3",
   "language": "python",
   "name": "python3"
  },
  "language_info": {
   "codemirror_mode": {
    "name": "ipython",
    "version": 3
   },
   "file_extension": ".py",
   "mimetype": "text/x-python",
   "name": "python",
   "nbconvert_exporter": "python",
   "pygments_lexer": "ipython3",
   "version": "3.8.5"
  }
 },
 "nbformat": 4,
 "nbformat_minor": 4
}
