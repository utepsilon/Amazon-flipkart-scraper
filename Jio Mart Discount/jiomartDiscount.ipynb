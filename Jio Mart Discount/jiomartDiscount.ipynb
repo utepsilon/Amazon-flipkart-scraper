{
 "cells": [
  {
   "cell_type": "code",
   "execution_count": 43,
   "metadata": {},
   "outputs": [],
   "source": [
    "import requests\n",
    "from bs4 import BeautifulSoup\n",
    "from urllib.parse import urlparse, parse_qs\n",
    "import time\n"
   ]
  },
  {
   "cell_type": "code",
   "execution_count": 44,
   "metadata": {},
   "outputs": [],
   "source": [
    "bot_token = '6288451570:AAEi2DQpUE9D7LMI71WftcgDhPwV8GON3yw'\n",
    "user_id = '-982270661'"
   ]
  },
  {
   "cell_type": "code",
   "execution_count": 68,
   "metadata": {},
   "outputs": [
    {
     "name": "stdout",
     "output_type": "stream",
     "text": [
      "[['80', 'https://www.jiomart.com/c/electronics/mobiles-tablets/smartphones/777?prod_mart_electronics_products_popularity%5Brange%5D%5Bavg_discount_pct%5D=80%3A\\n'], ['50', 'https://www.jiomart.com/c/electronics/computers/laptops/775?prod_mart_electronics_products_popularity%5Brange%5D%5Bavg_discount_pct%5D=50%3A']]\n"
     ]
    }
   ],
   "source": [
    "\n",
    "with open('discount.txt', 'r') as f:\n",
    "    products = [ line.split('@') for line in f.readlines()]\n",
    "\n",
    "print(products)"
   ]
  },
  {
   "cell_type": "code",
   "execution_count": 72,
   "metadata": {},
   "outputs": [
    {
     "name": "stdout",
     "output_type": "stream",
     "text": [
      "20 20\n",
      "['Redmi A1 32 GB, 2 GB RAM, Black Mobile Phone', 'Apple iPhone 13 128 GB, Starlight', 'VIVO Y33s 128 GB, 8 GB RAM, Mirror Black, Mobile Phone', 'Samsung Galaxy M04 64 GB, 4 GB RAM, Sea Glass Green Mobile Phone', 'Motorola Moto G42 64GB, 4GB RAM, Atlantic Green, Mobile Phone', 'Motorola G71, 128 GB, 6 GB RAM, Iris Blue, Mobile Phone', 'Realme C33 64 GB, 4 GB RAM, Aqua Blue, Mobile Phone', 'Samsung Galaxy M04 64 GB, 4 GB RAM, Shadow Blue, Mobile Phone', 'Samsung Galaxy M13 5G 64 GB, 4 GB RAM, Midnight Blue, Mobile Phone', 'Samsung Galaxy A14 5G 128 GB, 6 GB RAM, Light Green, Mobile Phone', 'Motorola Moto G42 64GB, 4GB RAM, Metallc Rose, Mobile Phone', 'Redmi 9A Sport 32 GB 3 GB RAM, Coral Green, Mobile Phone', 'Redmi 10A Sport 128 GB, 6 GB RAM, Charcoal Black, Mobile Phone', 'Redmi 11 Prime 5G 64 GB, 4 GB RAM, Thunder Black Mobile Phone', 'Tecno Spark 9 64GB, 4GB RAM, Sky Mirror, Mobile Phone', 'Realme Narzo 50i Prime 64 GB, 4 GB RAM, Dark Blue, Mobile Phone', 'Apple iPhone 14 Pro Max 128 GB, Deep Purple', 'Tecno Spark 9 128GB, 6GB RAM, Sky Mirror, Mobile Phone', 'Apple iPhone 13 128 GB, Red', 'Apple iPhone 14 Pro 128 GB, Deep Purple'] ['27% OFF', '11% OFF', '29% OFF', '17% OFF', '41% OFF', '31% OFF', '23% OFF', '17% OFF', '29% OFF', '9% OFF', '41% OFF', '26% OFF', '25% OFF', '12% OFF', '28% OFF', '14% OFF', '8% OFF', '31% OFF', '12% OFF', '8% OFF'] \n",
      "18 20\n",
      "['HP 15s-fq2670TU Laptop (11th Gen Intel Core i3-1115G4/8 GB RAM/256 GB SSD/Windows 11 Home/MSO/FHD), 39.6 cm (15.6 inch)', 'Lenovo IdeaPad 3 L1IN Laptop (11th Gen Intel Core i3-1115G4/8 GB/512GB SSD/ Intel UHD Graphics/ Windows 11/ MSO/Full HD), 39.62 cm (15.6 inch)', 'Asus EK522WS Laptop (11th Gen Intel Core i5-1135G7/8 GB/512 GB SSD/Iris Xe Graphics/Windows 11 Home/MSO/FHD), 35.56 cm (14 Inch)', 'HP 15s-fq5111TU Laptop (12th Gen Intel Core i5-1235U/8 GB RAM/512 GB SSD/Windows 11 Home/MSO/FHD), 39.6 cm (15.6 inch)', 'HP 15s-FQ5112TU Laptop (12th Gen Intel Core i5-1235U/16GB/512GB SSD/Iris Xe Graphics/Windows 11 Home/MSO/FHD), 39.6 cm (15.6 inch), Natural Silver', 'Dell Inspiron 15 3520 Laptop (12th Gen Intel Core i5-1235U/8 GB/512 GB SSD/Windows 11 Home/Integrated Graphics/MSO/FHD), 39.62 cm (15.6 Inch)', 'Apple MGN63HNA MacBook Air (Apple M1 Chip/8GB/256GB SSD/macOS Big Sur/Retina), 33.78 cm (13.3 inch)', 'Lenovo 64IN IdeaPad 3 Laptop(12th Gen Intel Core i5-1235U/8 GB/512 GB SSD/Intel Iris Xe Graphics/Windows 11/MSO/Full HD), 39.62 cm (15.6 inch)', 'Apple MNEH3HNA MacBook Pro (Apple M2 chip/8GB/256GB/macOS\\xa0Monterey/Retina), 33.74 cm (13.3 inch)', 'Apple MNEJ3HNA MacBook Pro (Apple M2 chip/8GB/512GB/macOS\\xa0Monterey/Retina), 33.74 cm (13.3 inch)', 'Lenovo IdeaPad 5 Laptop (12th Gen Intel Core i5-1235U/16 GB/512 GB SSD/Windows 11 Home/MSO/FHD), 39.62 cm (15.6 Inch)', 'Dell Inspiron 15 3520 Laptop (12th Gen Intel Core i5-1235U/16 GB/512 GB SSD/Intel Integrated Graphics/Windows 11 Home/MSO/FHD), 39.62 cm (15.6 Inch)', 'Dell Vostro 5620 Standard Laptop (12th Gen Intel Core i5-1240P/16 GB/512 GB SSD/Integrated Graphics/Windows 11 Home/MSO/FHD Plus), 40.64 cm (16 inch)', 'HP Pavilion 15-eg2002TU Laptop (Intel Core i5-1240P/16GB/512GB SSD/Intel Iris Xe Graphics/Windows 11 Home/FHD/MS), 39.6 cm (15.6 inch), 66C03PA', 'HP 14s-fq1089AU Laptop (AMD Ryzen 3 5300U/8 GB/512 GB SSD/Windows 11/MSO/FHD) 35.56 cm (14 Inch)', 'Asus HX041W TUF A17 Gaming Laptop (AMD Ryzen 5 4600H/8 GB/512 GB SSD/4 GB/Nvidia GeForce GTX 1650/Windows 11 Home/FHD/Backlit Keyboard/ 90Whrs Battery), 43.94cm (17.3 Inch)', 'Asus HN113WS TUF Gaming A15 Gaming Laptop (AMD Ryzen 5 4600H/16 GB/512 GB SSD/4 GB/Nvidia GeForce GTX 1650 Graphics/Windows 11 Home/MSO/FHD), 39.62 cm (15.6 Inch)', 'HP 14s-fq1092AU Laptop (AMD Ryzen 5 5500U/ 8 GB/512 GB SSD/AMD Radeon Graphics/Windows 11/MSO/FHD),35.56 cm (14 inch)', 'HP 15s-eq2144au Laptop (AMD Ryzen 5 5500U Processor/8GB/512GB SSD/AMD Radeon Graphics/Windows 11/MSO/FHD) 39.6 cm (15.6 inch)', 'Asus ROG Strix G15 Gaming Laptop (AMD Ryzen 7 4800H/16 GB/1 TB SSD/4 GB RTX 3050 Ti/Windows 11 Home/MSO/FHD), 39.62 cm (15.6 inch)'] ['19% OFF', '42% OFF', '32% OFF', '16% OFF', '17% OFF', '15% OFF', '17% OFF', '30% OFF', '36% OFF', '20% OFF', '6% OFF', '15% OFF', '27% OFF', '13% OFF', '23% OFF', '22% OFF', '25% OFF', '26% OFF'] \n"
     ]
    }
   ],
   "source": [
    "for product in products:\n",
    "    finaldiscount = int(product[0])\n",
    "    response = requests.get(product[1])\n",
    "    soup = BeautifulSoup(response.text, 'html.parser')\n",
    "    productNames = []\n",
    "    price = []\n",
    "    link = []\n",
    "    discount = []\n",
    "    #print(soup)\n",
    "    for i in soup.find_all('div', {'class': 'gtmEvents'}):\n",
    "        productNames.append(i.get('data-name'))\n",
    "    \n",
    "    for i in soup.find_all('a',{'class': 'plp-card-wrapper plp_product_list'}):\n",
    "        link.append(i.get('href'))\n",
    "    #print(link)\n",
    "    for i in soup.find_all('span', {'class': 'jm-heading-xxs jm-mb-xxs'}):\n",
    "        price.append(i.text.strip())\n",
    "    #print(price)\n",
    "    for i in soup.find_all('span', {'class': 'jm-badge'}):\n",
    "        discount.append(i.text.strip())\n",
    "      \n",
    "    print(len(discount),len(productNames))\n",
    "    print(productNames,discount ,end = \" \\n\")\n",
    "    for i in range(len(discount)):\n",
    "        li = discount[i].split('%')\n",
    "        #print(li[0])\n",
    "        if(int(li[0]) > finaldiscount):\n",
    "            message = \"Discount on Product : \" + productNames[i]+ \"\\n\"+ \"Price : \"+price[i]+ \"\\n\"+ \"Discount : \"+discount[i] +\"\\n\" + \"link : \"+ link[i];\n",
    "            url = \"https://api.telegram.org/bot\"+bot_token+\"/sendMessage?chat_id=\"+user_id+\"&text=\"+message\n",
    "            #print(message)\n",
    "            #requests.get(url)\n",
    "    \n"
   ]
  },
  {
   "cell_type": "code",
   "execution_count": null,
   "metadata": {},
   "outputs": [],
   "source": [
    "for i in soup.find_all('a', {'class': 'variant-img-container relative variantBoxDesktopLayoutLoyal_variant-img-container__1ZE7P'}):\n",
    "        link.append(\"https://www.healthkart.com\"+i.get('href'))\n",
    "    #print(link)\n",
    "    for i in soup.find_all('span', {'class': 'variant-price variantBoxDesktopLayoutLoyal_variant-price__36JaH'}):\n",
    "        price.append(i.text.strip())\n",
    "    print(price)\n",
    "    for i in soup.find_all('span', {'class': 'variant-offer variantBoxDesktopLayoutLoyal_variant-offer__1t4IA'}):\n",
    "        discount.append(i.text.strip())\n",
    "        \n",
    "\n",
    "    for i in range(len(productNames)):\n",
    "        message = \"Discount on Product : \" + productNames[i]+ \"\\n\"+ \"Price : \"+price[i]+ \"\\n\"+ \"Discount : \"+discount[i] +\"\\n\" + \"link : \"+ link[i];\n",
    "        url = \"https://api.telegram.org/bot\"+bot_token+\"/sendMessage?chat_id=\"+user_id+\"&text=\"+message\n",
    "        requests.get(url)"
   ]
  }
 ],
 "metadata": {
  "kernelspec": {
   "display_name": "Python 3",
   "language": "python",
   "name": "python3"
  },
  "language_info": {
   "codemirror_mode": {
    "name": "ipython",
    "version": 3
   },
   "file_extension": ".py",
   "mimetype": "text/x-python",
   "name": "python",
   "nbconvert_exporter": "python",
   "pygments_lexer": "ipython3",
   "version": "3.8.5"
  }
 },
 "nbformat": 4,
 "nbformat_minor": 4
}
